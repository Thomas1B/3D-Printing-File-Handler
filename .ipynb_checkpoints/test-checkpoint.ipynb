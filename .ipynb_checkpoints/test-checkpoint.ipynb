{
 "cells": [
  {
   "cell_type": "code",
   "execution_count": 1,
   "metadata": {},
   "outputs": [],
   "source": [
    "import os\n",
    "from os import listdir\n",
    "from os.path import isfile, isdir, join\n",
    "import numpy as np\n",
    "import colorama as cr\n",
    "from colorama import init, Style, Fore, Back\n",
    "import time\n",
    "\n",
    "init(autoreset = True)"
   ]
  },
  {
   "cell_type": "code",
   "execution_count": 2,
   "metadata": {},
   "outputs": [],
   "source": [
    "main_path = 'c:/Users/Thomas/OneDrive/Hobby/CodeStuff/Python/3d Printing'\n",
    "\n",
    "def get_filenames(folder_name):\n",
    "    path = main_path + f'/{folder_name}'\n",
    "    names = [f.split('.')[0] for f in listdir(path) if isfile(join(path, f))]\n",
    "    return np.sort(list(set(names)))"
   ]
  },
  {
   "cell_type": "code",
   "execution_count": 3,
   "metadata": {},
   "outputs": [
    {
     "name": "stdout",
     "output_type": "stream",
     "text": [
      "['Completed' 'Models' 'Need to finish' 'ready to print']\n"
     ]
    }
   ],
   "source": [
    "folders_name = np.array(['Completed', 'Models', \"Need to finish\", \"ready to print\"])\n",
    "print(folders_name)\n",
    "all_models = get_filenames(folders_name[1])\n",
    "completed = get_filenames(folders_name[0])\n",
    "need = get_filenames(folders_name[2])\n",
    "ready = get_filenames(folders_name[3])"
   ]
  },
  {
   "cell_type": "code",
   "execution_count": 4,
   "metadata": {},
   "outputs": [],
   "source": [
    "def clear_screen():\n",
    "    print(cr.ansi.clear_screen())\n",
    "\n",
    "\n",
    "def check_ifCompleted(folder):\n",
    "    '''\n",
    "    Function to check if files in folder are in the completed\n",
    "\n",
    "    Returns: 2 arrays done and not done.\n",
    "    '''\n",
    "    ids = np.isin(folder, completed)\n",
    "    done = folder[ids]\n",
    "    return done\n",
    "    \n",
    "def folder_contains(folder1, folder2):\n",
    "    '''\n",
    "    Function to check if files in folder1 are in folder2\n",
    "\n",
    "    Returns: 2 arrays: files that are both, files in folder1 only\n",
    "    '''\n",
    "    ids = np.isin(folder1, folder2)\n",
    "    both =  folder1[ids]\n",
    "    folder1_only = folder1[np.where(ids == False)]\n",
    "    return both, folder1_only\n",
    "\n",
    "def move_file(folders_name, file):\n",
    "    '''\n",
    "    Function to move files from folder1 into folder2\n",
    "    '''\n",
    "    f1, f2 = folders_name    \n",
    "    old = main_path + f'/{f1}/{file}'\n",
    "    new = main_path + f'/{f2}/{file}'   \n",
    "    os.rename(old, new)\n",
    "\n",
    "def move_toNeed(file):\n",
    "    '''\n",
    "    Function to move STL files from models folders to 'need to finish'\n",
    "    '''\n",
    "    old = folders_name[1]\n",
    "    new = folders_name[2]\n",
    "    move_file((old, new), file + \".STL\")\n",
    "\n",
    "def show_Need():\n",
    "    _, not_done = folder_contains(all_models, completed)\n",
    "    return not_done\n",
    "\n",
    "def show_Completed():\n",
    "    files = get_filenames('Completed')\n",
    "    txt = \", \".join(files)\n",
    "    print(txt)\n",
    "\n",
    "def get_Ready():\n",
    "    files = get_filenames(f'{folders_name[2]}')\n",
    "    return files\n"
   ]
  },
  {
   "cell_type": "code",
   "execution_count": 5,
   "metadata": {},
   "outputs": [
    {
     "data": {
      "text/plain": [
       "array(['bipod_base'], dtype='<U10')"
      ]
     },
     "execution_count": 5,
     "metadata": {},
     "output_type": "execute_result"
    }
   ],
   "source": [
    "both, _ = folder_contains(ready, completed)\n",
    "both"
   ]
  },
  {
   "cell_type": "code",
   "execution_count": 6,
   "metadata": {},
   "outputs": [],
   "source": [
    "def ready_and_completed():\n",
    "    '''\n",
    "    Function to return files that in the ready and completed folder.\n",
    "    '''\n",
    "    both, _ = folder_contains(ready, completed)\n",
    "    if both:\n",
    "        return both\n",
    "    else:\n",
    "        return False"
   ]
  },
  {
   "cell_type": "code",
   "execution_count": 7,
   "metadata": {},
   "outputs": [
    {
     "data": {
      "text/plain": [
       "<function __main__.ready_and_completed()>"
      ]
     },
     "execution_count": 7,
     "metadata": {},
     "output_type": "execute_result"
    }
   ],
   "source": [
    "ready_and_completed"
   ]
  },
  {
   "cell_type": "code",
   "execution_count": 8,
   "metadata": {},
   "outputs": [],
   "source": [
    "def color_txt():\n",
    "    '''\n",
    "    Function to style strings using colorama module.\n",
    "    '''\n",
    "    pass"
   ]
  },
  {
   "cell_type": "code",
   "execution_count": 21,
   "metadata": {},
   "outputs": [],
   "source": [
    "def print_with_color(s, color=Fore.WHITE, brightness=Style.NORMAL, **kwargs):\n",
    "    '''\n",
    "    Utility function wrapping the regular `print()` function \n",
    "    but with colors and brightness\n",
    "    '''\n",
    "    print(f\"{brightness}{color} {s}{Style.RESET_ALL}\", **kwargs)\n",
    "    return (f\"{color} {s}{Style.RESET_ALL}\")"
   ]
  },
  {
   "cell_type": "code",
   "execution_count": 22,
   "metadata": {},
   "outputs": [
    {
     "name": "stdout",
     "output_type": "stream",
     "text": [
      " test\n"
     ]
    },
    {
     "data": {
      "text/plain": [
       "'\\x1b[31m test\\x1b[0m'"
      ]
     },
     "execution_count": 22,
     "metadata": {},
     "output_type": "execute_result"
    }
   ],
   "source": [
    "print_with_color('test', Fore.RED)"
   ]
  },
  {
   "cell_type": "code",
   "execution_count": 23,
   "metadata": {},
   "outputs": [
    {
     "name": "stdout",
     "output_type": "stream",
     "text": [
      " test\n"
     ]
    }
   ],
   "source": [
    "print('\\033[91m test')"
   ]
  },
  {
   "cell_type": "code",
   "execution_count": 11,
   "metadata": {},
   "outputs": [
    {
     "ename": "ModuleNotFoundError",
     "evalue": "No module named 'termcolor'",
     "output_type": "error",
     "traceback": [
      "\u001b[1;31m---------------------------------------------------------------------------\u001b[0m",
      "\u001b[1;31mModuleNotFoundError\u001b[0m                       Traceback (most recent call last)",
      "Input \u001b[1;32mIn [11]\u001b[0m, in \u001b[0;36m<cell line: 1>\u001b[1;34m()\u001b[0m\n\u001b[1;32m----> 1\u001b[0m \u001b[38;5;28;01mfrom\u001b[39;00m \u001b[38;5;21;01mtermcolor\u001b[39;00m \u001b[38;5;28;01mimport\u001b[39;00m colored\n",
      "\u001b[1;31mModuleNotFoundError\u001b[0m: No module named 'termcolor'"
     ]
    }
   ],
   "source": [
    "from termcolor import colored"
   ]
  },
  {
   "cell_type": "code",
   "execution_count": null,
   "metadata": {},
   "outputs": [],
   "source": []
  }
 ],
 "metadata": {
  "kernelspec": {
   "display_name": "Python 3 (ipykernel)",
   "language": "python",
   "name": "python3"
  },
  "language_info": {
   "codemirror_mode": {
    "name": "ipython",
    "version": 3
   },
   "file_extension": ".py",
   "mimetype": "text/x-python",
   "name": "python",
   "nbconvert_exporter": "python",
   "pygments_lexer": "ipython3",
   "version": "3.9.12"
  },
  "vscode": {
   "interpreter": {
    "hash": "80f0ca567e8a8332be8d0227e77114b80c729e82298f4777b19db59a6217bb0d"
   }
  }
 },
 "nbformat": 4,
 "nbformat_minor": 4
}
